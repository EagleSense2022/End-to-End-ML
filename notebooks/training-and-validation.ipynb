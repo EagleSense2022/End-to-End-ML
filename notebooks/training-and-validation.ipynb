{
 "cells": [
  {
   "cell_type": "code",
   "execution_count": 2,
   "id": "7489eac0",
   "metadata": {},
   "outputs": [],
   "source": [
    "import numpy as np\n",
    "import pandas as pd\n",
    "\n",
    "# Source: https://catalog.data.gov/dataset/infectious-disease-cases-by-county-year-and-sex-2001-2014\n",
    "\n",
    "\"\"\"\n",
    "Source:\n",
    "\n",
    "Creators:\n",
    "\n",
    "Dr. William H. Wolberg, General Surgery Dept.\n",
    "University of Wisconsin, Clinical Sciences Center\n",
    "Madison, WI 53792\n",
    "wolberg '@' eagle.surgery.wisc.edu\n",
    "\n",
    "W. Nick Street, Computer Sciences Dept.\n",
    "University of Wisconsin, 1210 West Dayton St., Madison, WI 53706\n",
    "street '@' cs.wisc.edu 608-262-6619\n",
    "\n",
    "Olvi L. Mangasarian, Computer Sciences Dept.\n",
    "University of Wisconsin, 1210 West Dayton St., Madison, WI 53706\n",
    "olvi '@' cs.wisc.edu\n",
    "\n",
    "Donor: Nick Street\n",
    "\n",
    "Source: UCI - Machine Learning Repository\n",
    "\"\"\""
   ]
  },
  {
   "cell_type": "code",
   "execution_count": 3,
   "id": "1de5701a",
   "metadata": {},
   "outputs": [],
   "source": [
    "df = pd.read_csv('~/Documents/Projects/Eagle_sense_Q1_Cohort/dataset/raw/disease-dataset.csv')"
   ]
  },
  {
   "cell_type": "code",
   "execution_count": 4,
   "id": "a7b2d4bb",
   "metadata": {},
   "outputs": [
    {
     "data": {
      "text/html": [
       "<div>\n",
       "<style scoped>\n",
       "    .dataframe tbody tr th:only-of-type {\n",
       "        vertical-align: middle;\n",
       "    }\n",
       "\n",
       "    .dataframe tbody tr th {\n",
       "        vertical-align: top;\n",
       "    }\n",
       "\n",
       "    .dataframe thead th {\n",
       "        text-align: right;\n",
       "    }\n",
       "</style>\n",
       "<table border=\"1\" class=\"dataframe\">\n",
       "  <thead>\n",
       "    <tr style=\"text-align: right;\">\n",
       "      <th></th>\n",
       "      <th>disease</th>\n",
       "      <th>county</th>\n",
       "      <th>year</th>\n",
       "      <th>sex</th>\n",
       "      <th>count</th>\n",
       "      <th>population</th>\n",
       "      <th>rate</th>\n",
       "      <th>ci_lower</th>\n",
       "      <th>ci_upper</th>\n",
       "      <th>unstable</th>\n",
       "    </tr>\n",
       "  </thead>\n",
       "  <tbody>\n",
       "    <tr>\n",
       "      <th>59347</th>\n",
       "      <td>Hepatitis B, Acute</td>\n",
       "      <td>Marin</td>\n",
       "      <td>2014</td>\n",
       "      <td>Female</td>\n",
       "      <td>0</td>\n",
       "      <td>131733</td>\n",
       "      <td>0.000</td>\n",
       "      <td>0.000</td>\n",
       "      <td>2.800</td>\n",
       "      <td>-</td>\n",
       "    </tr>\n",
       "    <tr>\n",
       "      <th>132980</th>\n",
       "      <td>Typhoid Fever, case</td>\n",
       "      <td>Sierra</td>\n",
       "      <td>2012</td>\n",
       "      <td>Total</td>\n",
       "      <td>0</td>\n",
       "      <td>3133</td>\n",
       "      <td>0.000</td>\n",
       "      <td>0.000</td>\n",
       "      <td>117.673</td>\n",
       "      <td>-</td>\n",
       "    </tr>\n",
       "    <tr>\n",
       "      <th>29362</th>\n",
       "      <td>Coccidioidomycosis</td>\n",
       "      <td>Sonoma</td>\n",
       "      <td>2012</td>\n",
       "      <td>Female</td>\n",
       "      <td>1</td>\n",
       "      <td>247993</td>\n",
       "      <td>0.403</td>\n",
       "      <td>0.010</td>\n",
       "      <td>2.247</td>\n",
       "      <td>*</td>\n",
       "    </tr>\n",
       "    <tr>\n",
       "      <th>58809</th>\n",
       "      <td>Hepatitis A</td>\n",
       "      <td>San Diego</td>\n",
       "      <td>2014</td>\n",
       "      <td>Male</td>\n",
       "      <td>6</td>\n",
       "      <td>1617219</td>\n",
       "      <td>0.371</td>\n",
       "      <td>0.136</td>\n",
       "      <td>0.808</td>\n",
       "      <td>*</td>\n",
       "    </tr>\n",
       "    <tr>\n",
       "      <th>138591</th>\n",
       "      <td>Vibrio Infection (non-Cholera)</td>\n",
       "      <td>San Mateo</td>\n",
       "      <td>2006</td>\n",
       "      <td>Male</td>\n",
       "      <td>8</td>\n",
       "      <td>343868</td>\n",
       "      <td>2.326</td>\n",
       "      <td>1.004</td>\n",
       "      <td>4.584</td>\n",
       "      <td>*</td>\n",
       "    </tr>\n",
       "  </tbody>\n",
       "</table>\n",
       "</div>"
      ],
      "text/plain": [
       "                               disease     county  year     sex  count  \\\n",
       "59347               Hepatitis B, Acute      Marin  2014  Female      0   \n",
       "132980             Typhoid Fever, case     Sierra  2012   Total      0   \n",
       "29362               Coccidioidomycosis     Sonoma  2012  Female      1   \n",
       "58809                      Hepatitis A  San Diego  2014    Male      6   \n",
       "138591  Vibrio Infection (non-Cholera)  San Mateo  2006    Male      8   \n",
       "\n",
       "        population   rate  ci_lower  ci_upper unstable  \n",
       "59347       131733  0.000     0.000     2.800        -  \n",
       "132980        3133  0.000     0.000   117.673        -  \n",
       "29362       247993  0.403     0.010     2.247        *  \n",
       "58809      1617219  0.371     0.136     0.808        *  \n",
       "138591      343868  2.326     1.004     4.584        *  "
      ]
     },
     "execution_count": 4,
     "metadata": {},
     "output_type": "execute_result"
    }
   ],
   "source": [
    "df.sample(5)"
   ]
  },
  {
   "cell_type": "code",
   "execution_count": 5,
   "id": "4b571f1b",
   "metadata": {},
   "outputs": [
    {
     "data": {
      "text/plain": [
       "disease           0\n",
       "county            0\n",
       "year              0\n",
       "sex               0\n",
       "count             0\n",
       "population        0\n",
       "rate              0\n",
       "ci_lower          0\n",
       "ci_upper          0\n",
       "unstable      11729\n",
       "dtype: int64"
      ]
     },
     "execution_count": 5,
     "metadata": {},
     "output_type": "execute_result"
    }
   ],
   "source": [
    "df.isnull().sum()"
   ]
  },
  {
   "cell_type": "code",
   "execution_count": 6,
   "id": "c0c090c2",
   "metadata": {},
   "outputs": [
    {
     "data": {
      "text/plain": [
       "array(['Amebiasis', 'Anaplasmosis and Ehrlichiosis', 'Babesiosis',\n",
       "       'Cholera', 'Botulism, Other', 'Botulism, Foodborne',\n",
       "       'Botulism, Wound', 'Brucellosis', 'Campylobacteriosis',\n",
       "       'Chlamydia', 'Ciguatera Fish Poisoning', 'Dengue',\n",
       "       'Coccidioidomycosis',\n",
       "       'Creutzfeldt-Jakob Disease and other Transmissible Spongiform Encephalopathies',\n",
       "       'Cryptosporidiosis', 'Cyclosporiasis',\n",
       "       'Cysticercosis or Taeniasis', 'E. coli O157', 'Diphtheria', 'HIV',\n",
       "       'Early Syphilis', 'Gonorrhea', 'E. coli Other STEC (non-O157)',\n",
       "       'Giardiasis', 'Hantavirus Infection', 'Hepatitis B, Acute',\n",
       "       'Hepatitis E, acute infection', 'Hemolytic Uremic Syndrome',\n",
       "       'Hepatitis A', 'Scombroid Fish Poisoning', 'Hepatitis C, Acute',\n",
       "       'Invasive Meningococcal Disease', 'Leprosy', 'Measles',\n",
       "       'Leptospirosis', 'Influenza Death (<65 years of age)',\n",
       "       'Legionellosis', 'Malaria', 'Lyme Disease', 'Listeriosis',\n",
       "       'Pertussis', 'Paralytic Shellfish Poisoning', 'Psittacosis',\n",
       "       'Rabies, human', 'Mumps', 'Q Fever', 'Relapsing Fever',\n",
       "       'Plague, human', 'Rubella', 'Salmonellosis', 'Tetanus',\n",
       "       'Shiga Toxin Positive Feces (without culture confirmation)',\n",
       "       'Shigellosis', 'Spotted Fever Rickettsiosis',\n",
       "       'Staphylococcus aureus Infection (cases resulting in death or ICU)',\n",
       "       'Streptococcal Infection (cases in food and dairy workers)',\n",
       "       'Tuberculosis', 'Toxic Shock Syndrome (Non-Streptococcal)',\n",
       "       'Vibrio Infection (non-Cholera)', 'Trichinosis', 'Tularemia',\n",
       "       'Typhoid Fever, case', 'Varicella Hospitalizations',\n",
       "       'Typhus Fever', 'Yersiniosis'], dtype=object)"
      ]
     },
     "execution_count": 6,
     "metadata": {},
     "output_type": "execute_result"
    }
   ],
   "source": [
    "df.disease.unique()"
   ]
  },
  {
   "cell_type": "code",
   "execution_count": 7,
   "id": "d956d3a4",
   "metadata": {},
   "outputs": [
    {
     "data": {
      "text/plain": [
       "array(['California', 'Alameda', 'Alpine', 'Amador', 'Butte', 'Calaveras',\n",
       "       'Colusa', 'Contra Costa', 'Del Norte', 'El Dorado', 'Fresno',\n",
       "       'Glenn', 'Humboldt', 'Imperial', 'Inyo', 'Kern', 'Kings', 'Lake',\n",
       "       'Lassen', 'Los Angeles', 'Madera', 'Modoc', 'Marin', 'Mariposa',\n",
       "       'Mendocino', 'Merced', 'Mono', 'Monterey', 'Napa', 'Nevada',\n",
       "       'Orange', 'Placer', 'Plumas', 'Riverside', 'Sacramento',\n",
       "       'San Benito', 'San Bernardino', 'San Diego', 'San Francisco',\n",
       "       'San Joaquin', 'San Luis Obispo', 'San Mateo', 'Santa Barbara',\n",
       "       'Santa Clara', 'Santa Cruz', 'Shasta', 'Sierra', 'Siskiyou',\n",
       "       'Solano', 'Sonoma', 'Stanislaus', 'Sutter', 'Tehama', 'Trinity',\n",
       "       'Tulare', 'Tuolumne', 'Ventura', 'Yolo', 'Yuba'], dtype=object)"
      ]
     },
     "execution_count": 7,
     "metadata": {},
     "output_type": "execute_result"
    }
   ],
   "source": [
    "df.county.unique()"
   ]
  },
  {
   "cell_type": "code",
   "execution_count": 8,
   "id": "b2ebbf98",
   "metadata": {},
   "outputs": [
    {
     "data": {
      "text/plain": [
       "array(['Total', 'Female', 'Male'], dtype=object)"
      ]
     },
     "execution_count": 8,
     "metadata": {},
     "output_type": "execute_result"
    }
   ],
   "source": [
    "df.sex.unique()"
   ]
  },
  {
   "cell_type": "code",
   "execution_count": 9,
   "id": "4e9adb81",
   "metadata": {},
   "outputs": [
    {
     "name": "stdout",
     "output_type": "stream",
     "text": [
      "<class 'pandas.core.frame.DataFrame'>\n",
      "RangeIndex: 141777 entries, 0 to 141776\n",
      "Data columns (total 10 columns):\n",
      " #   Column      Non-Null Count   Dtype  \n",
      "---  ------      --------------   -----  \n",
      " 0   disease     141777 non-null  object \n",
      " 1   county      141777 non-null  object \n",
      " 2   year        141777 non-null  int64  \n",
      " 3   sex         141777 non-null  object \n",
      " 4   count       141777 non-null  int64  \n",
      " 5   population  141777 non-null  int64  \n",
      " 6   rate        141777 non-null  float64\n",
      " 7   ci_lower    141777 non-null  float64\n",
      " 8   ci_upper    141777 non-null  float64\n",
      " 9   unstable    130048 non-null  object \n",
      "dtypes: float64(3), int64(3), object(4)\n",
      "memory usage: 10.8+ MB\n"
     ]
    }
   ],
   "source": [
    "df.info()"
   ]
  }
 ],
 "metadata": {
  "kernelspec": {
   "display_name": "Python 3",
   "language": "python",
   "name": "python3"
  },
  "language_info": {
   "codemirror_mode": {
    "name": "ipython",
    "version": 3
   },
   "file_extension": ".py",
   "mimetype": "text/x-python",
   "name": "python",
   "nbconvert_exporter": "python",
   "pygments_lexer": "ipython3",
   "version": "3.8.11"
  }
 },
 "nbformat": 4,
 "nbformat_minor": 5
}
