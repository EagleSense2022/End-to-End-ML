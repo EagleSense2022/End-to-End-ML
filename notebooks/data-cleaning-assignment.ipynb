{
 "cells": [
  {
   "cell_type": "code",
   "execution_count": 2,
   "id": "ef575275-ab28-429f-8a78-4cfe48836c7e",
   "metadata": {},
   "outputs": [],
   "source": [
    "# import libraries\n",
    "import pandas as pd\n",
    "import numpy as np"
   ]
  },
  {
   "cell_type": "code",
   "execution_count": 3,
   "id": "dbf7ba1a-f398-4d1a-8e0d-6e52034e4837",
   "metadata": {},
   "outputs": [],
   "source": [
    "# load disease-infection dataframe"
   ]
  },
  {
   "cell_type": "code",
   "execution_count": 4,
   "id": "a07ce693-aa41-4828-8ca3-8795dabbb906",
   "metadata": {},
   "outputs": [],
   "source": [
    "# check for missing values if any replace or drop or fill missing value"
   ]
  },
  {
   "cell_type": "code",
   "execution_count": 5,
   "id": "fe79e3ae-8a20-49ad-9994-99fa43ca5485",
   "metadata": {},
   "outputs": [],
   "source": [
    "# check for duplicates, if any then handle duplicate"
   ]
  },
  {
   "cell_type": "code",
   "execution_count": 6,
   "id": "2cc01951-cbe4-418d-b7c1-2e1fae91fc5a",
   "metadata": {},
   "outputs": [],
   "source": [
    "# check for outliers, if any then drop outliers"
   ]
  },
  {
   "cell_type": "code",
   "execution_count": 7,
   "id": "39f0a623-30fe-4981-8fed-fdd103d8e20c",
   "metadata": {},
   "outputs": [],
   "source": [
    "# save dataframe for exploration"
   ]
  },
  {
   "cell_type": "code",
   "execution_count": null,
   "id": "ef69b300-088c-45bf-a659-1d2e53ea094a",
   "metadata": {},
   "outputs": [],
   "source": []
  }
 ],
 "metadata": {
  "kernelspec": {
   "display_name": "Python 3",
   "language": "python",
   "name": "python3"
  },
  "language_info": {
   "codemirror_mode": {
    "name": "ipython",
    "version": 3
   },
   "file_extension": ".py",
   "mimetype": "text/x-python",
   "name": "python",
   "nbconvert_exporter": "python",
   "pygments_lexer": "ipython3",
   "version": "3.8.11"
  }
 },
 "nbformat": 4,
 "nbformat_minor": 5
}
