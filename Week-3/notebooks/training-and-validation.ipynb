{
 "cells": [
  {
   "cell_type": "code",
   "execution_count": 72,
   "id": "7489eac0",
   "metadata": {},
   "outputs": [
    {
     "data": {
      "text/plain": [
       "\"\\nSource:\\n\\nCreators:\\n\\nDr. William H. Wolberg, General Surgery Dept.\\nUniversity of Wisconsin, Clinical Sciences Center\\nMadison, WI 53792\\nwolberg '@' eagle.surgery.wisc.edu\\n\\nW. Nick Street, Computer Sciences Dept.\\nUniversity of Wisconsin, 1210 West Dayton St., Madison, WI 53706\\nstreet '@' cs.wisc.edu 608-262-6619\\n\\nOlvi L. Mangasarian, Computer Sciences Dept.\\nUniversity of Wisconsin, 1210 West Dayton St., Madison, WI 53706\\nolvi '@' cs.wisc.edu\\n\\nDonor: Nick Street\\n\\nSource: UCI - Machine Learning Repository\\n\""
      ]
     },
     "execution_count": 72,
     "metadata": {},
     "output_type": "execute_result"
    }
   ],
   "source": [
    "# import librabries\n",
    "import numpy as np\n",
    "import pandas as pd\n",
    "import seaborn as sns\n",
    "import matplotlib.pyplot as plt\n",
    "\n",
    "# Source: https://catalog.data.gov/dataset/infectious-disease-cases-by-county-year-and-sex-2001-2014\n",
    "\n",
    "\"\"\"\n",
    "Source:\n",
    "\n",
    "Creators:\n",
    "\n",
    "Dr. William H. Wolberg, General Surgery Dept.\n",
    "University of Wisconsin, Clinical Sciences Center\n",
    "Madison, WI 53792\n",
    "wolberg '@' eagle.surgery.wisc.edu\n",
    "\n",
    "W. Nick Street, Computer Sciences Dept.\n",
    "University of Wisconsin, 1210 West Dayton St., Madison, WI 53706\n",
    "street '@' cs.wisc.edu 608-262-6619\n",
    "\n",
    "Olvi L. Mangasarian, Computer Sciences Dept.\n",
    "University of Wisconsin, 1210 West Dayton St., Madison, WI 53706\n",
    "olvi '@' cs.wisc.edu\n",
    "\n",
    "Donor: Nick Street\n",
    "\n",
    "Source: UCI - Machine Learning Repository\n",
    "\"\"\""
   ]
  },
  {
   "cell_type": "code",
   "execution_count": 73,
   "id": "1de5701a",
   "metadata": {},
   "outputs": [],
   "source": [
    "# import the dataset from the clean folder\n",
    "df = pd.read_csv(\"~/Documents/Projects/Eagle_sense_Q1_Cohort/dataset/cleaned/cleaned.csv\")"
   ]
  },
  {
   "cell_type": "code",
   "execution_count": 74,
   "id": "a7b2d4bb",
   "metadata": {},
   "outputs": [
    {
     "data": {
      "text/html": [
       "<div>\n",
       "<style scoped>\n",
       "    .dataframe tbody tr th:only-of-type {\n",
       "        vertical-align: middle;\n",
       "    }\n",
       "\n",
       "    .dataframe tbody tr th {\n",
       "        vertical-align: top;\n",
       "    }\n",
       "\n",
       "    .dataframe thead th {\n",
       "        text-align: right;\n",
       "    }\n",
       "</style>\n",
       "<table border=\"1\" class=\"dataframe\">\n",
       "  <thead>\n",
       "    <tr style=\"text-align: right;\">\n",
       "      <th></th>\n",
       "      <th>age</th>\n",
       "      <th>job</th>\n",
       "      <th>marital</th>\n",
       "      <th>education</th>\n",
       "      <th>default</th>\n",
       "      <th>balance</th>\n",
       "      <th>housing</th>\n",
       "      <th>loan</th>\n",
       "      <th>contact</th>\n",
       "      <th>day</th>\n",
       "      <th>month</th>\n",
       "      <th>duration</th>\n",
       "      <th>campaign</th>\n",
       "      <th>pdays</th>\n",
       "      <th>previous</th>\n",
       "      <th>poutcome</th>\n",
       "      <th>y</th>\n",
       "    </tr>\n",
       "  </thead>\n",
       "  <tbody>\n",
       "    <tr>\n",
       "      <th>17808</th>\n",
       "      <td>31</td>\n",
       "      <td>entrepreneur</td>\n",
       "      <td>single</td>\n",
       "      <td>tertiary</td>\n",
       "      <td>no</td>\n",
       "      <td>566</td>\n",
       "      <td>yes</td>\n",
       "      <td>no</td>\n",
       "      <td>cellular</td>\n",
       "      <td>29</td>\n",
       "      <td>jul</td>\n",
       "      <td>333</td>\n",
       "      <td>8</td>\n",
       "      <td>-1</td>\n",
       "      <td>0</td>\n",
       "      <td>unknown</td>\n",
       "      <td>no</td>\n",
       "    </tr>\n",
       "    <tr>\n",
       "      <th>7622</th>\n",
       "      <td>46</td>\n",
       "      <td>management</td>\n",
       "      <td>married</td>\n",
       "      <td>tertiary</td>\n",
       "      <td>no</td>\n",
       "      <td>583</td>\n",
       "      <td>yes</td>\n",
       "      <td>no</td>\n",
       "      <td>unknown</td>\n",
       "      <td>30</td>\n",
       "      <td>may</td>\n",
       "      <td>135</td>\n",
       "      <td>3</td>\n",
       "      <td>-1</td>\n",
       "      <td>0</td>\n",
       "      <td>unknown</td>\n",
       "      <td>no</td>\n",
       "    </tr>\n",
       "    <tr>\n",
       "      <th>40933</th>\n",
       "      <td>55</td>\n",
       "      <td>technician</td>\n",
       "      <td>married</td>\n",
       "      <td>secondary</td>\n",
       "      <td>no</td>\n",
       "      <td>1938</td>\n",
       "      <td>no</td>\n",
       "      <td>yes</td>\n",
       "      <td>cellular</td>\n",
       "      <td>18</td>\n",
       "      <td>aug</td>\n",
       "      <td>193</td>\n",
       "      <td>1</td>\n",
       "      <td>386</td>\n",
       "      <td>3</td>\n",
       "      <td>success</td>\n",
       "      <td>yes</td>\n",
       "    </tr>\n",
       "    <tr>\n",
       "      <th>25922</th>\n",
       "      <td>37</td>\n",
       "      <td>technician</td>\n",
       "      <td>married</td>\n",
       "      <td>secondary</td>\n",
       "      <td>no</td>\n",
       "      <td>5902</td>\n",
       "      <td>yes</td>\n",
       "      <td>no</td>\n",
       "      <td>cellular</td>\n",
       "      <td>19</td>\n",
       "      <td>nov</td>\n",
       "      <td>191</td>\n",
       "      <td>1</td>\n",
       "      <td>180</td>\n",
       "      <td>4</td>\n",
       "      <td>failure</td>\n",
       "      <td>no</td>\n",
       "    </tr>\n",
       "    <tr>\n",
       "      <th>5333</th>\n",
       "      <td>34</td>\n",
       "      <td>blue-collar</td>\n",
       "      <td>married</td>\n",
       "      <td>secondary</td>\n",
       "      <td>no</td>\n",
       "      <td>2495</td>\n",
       "      <td>yes</td>\n",
       "      <td>no</td>\n",
       "      <td>unknown</td>\n",
       "      <td>23</td>\n",
       "      <td>may</td>\n",
       "      <td>924</td>\n",
       "      <td>1</td>\n",
       "      <td>-1</td>\n",
       "      <td>0</td>\n",
       "      <td>unknown</td>\n",
       "      <td>yes</td>\n",
       "    </tr>\n",
       "  </tbody>\n",
       "</table>\n",
       "</div>"
      ],
      "text/plain": [
       "       age           job  marital  education default  balance housing loan  \\\n",
       "17808   31  entrepreneur   single   tertiary      no      566     yes   no   \n",
       "7622    46    management  married   tertiary      no      583     yes   no   \n",
       "40933   55    technician  married  secondary      no     1938      no  yes   \n",
       "25922   37    technician  married  secondary      no     5902     yes   no   \n",
       "5333    34   blue-collar  married  secondary      no     2495     yes   no   \n",
       "\n",
       "        contact  day month  duration  campaign  pdays  previous poutcome    y  \n",
       "17808  cellular   29   jul       333         8     -1         0  unknown   no  \n",
       "7622    unknown   30   may       135         3     -1         0  unknown   no  \n",
       "40933  cellular   18   aug       193         1    386         3  success  yes  \n",
       "25922  cellular   19   nov       191         1    180         4  failure   no  \n",
       "5333    unknown   23   may       924         1     -1         0  unknown  yes  "
      ]
     },
     "execution_count": 74,
     "metadata": {},
     "output_type": "execute_result"
    }
   ],
   "source": [
    "# randomly display 5 samples \n",
    "df.sample(5)"
   ]
  },
  {
   "cell_type": "code",
   "execution_count": 75,
   "id": "4b571f1b",
   "metadata": {},
   "outputs": [
    {
     "data": {
      "text/plain": [
       "age          0\n",
       "job          0\n",
       "marital      0\n",
       "education    0\n",
       "default      0\n",
       "balance      0\n",
       "housing      0\n",
       "loan         0\n",
       "contact      0\n",
       "day          0\n",
       "month        0\n",
       "duration     0\n",
       "campaign     0\n",
       "pdays        0\n",
       "previous     0\n",
       "poutcome     0\n",
       "y            0\n",
       "dtype: int64"
      ]
     },
     "execution_count": 75,
     "metadata": {},
     "output_type": "execute_result"
    }
   ],
   "source": [
    "# check for missing values\n",
    "df.isnull().sum()"
   ]
  },
  {
   "cell_type": "code",
   "execution_count": 76,
   "id": "c0c090c2",
   "metadata": {},
   "outputs": [],
   "source": [
    "# replace the negative number with zero\n",
    "df['pdays'] = df['pdays'].replace({-1:0})"
   ]
  },
  {
   "cell_type": "code",
   "execution_count": 77,
   "id": "b2ebbf98",
   "metadata": {},
   "outputs": [
    {
     "name": "stdout",
     "output_type": "stream",
     "text": [
      "{'month': {'apr': 0, 'aug': 1, 'dec': 2, 'feb': 3, 'jan': 4, 'jul': 5, 'jun': 6, 'mar': 7, 'may': 8, 'nov': 9, 'oct': 10, 'sep': 11}}\n"
     ]
    }
   ],
   "source": [
    "# encode month feature\n",
    "from sklearn import preprocessing\n",
    "category_column = [\"month\"]\n",
    "labelEncoder = preprocessing.LabelEncoder()\n",
    "\n",
    "mapping_dictionary = {}\n",
    "\n",
    "for col in category_column:\n",
    "    df['month'] = labelEncoder.fit_transform(df[col])\n",
    " \n",
    "    le_name_mapping = dict(zip(labelEncoder.classes_, labelEncoder.transform(labelEncoder.classes_)))\n",
    " \n",
    "    mapping_dictionary[col] = le_name_mapping\n",
    "\n",
    "print(mapping_dictionary)"
   ]
  },
  {
   "cell_type": "code",
   "execution_count": 78,
   "id": "4e9adb81",
   "metadata": {},
   "outputs": [],
   "source": [
    "# select categorical variable\n",
    "cat_columns = [\"job\",\"marital\",\"education\", \"default\", \"housing\", \"loan\", \"contact\", \"poutcome\"]\n",
    "# one hot encode categorical features\n",
    "newdf = pd.get_dummies(df, prefix_sep = \"_\", columns = cat_columns)"
   ]
  },
  {
   "cell_type": "code",
   "execution_count": 79,
   "id": "ccdb843e-49d1-45f4-8f9b-72f9ab06014a",
   "metadata": {},
   "outputs": [],
   "source": [
    "# create a simple function to convert our target value to number\n",
    "def y_value(input_val):\n",
    "    if input_val['y'] == 'no':\n",
    "        val = 0\n",
    "    else:\n",
    "        val = 1\n",
    "    return val"
   ]
  },
  {
   "cell_type": "code",
   "execution_count": 80,
   "id": "38359103-77b9-4ed8-82ab-9ec5f3de80f1",
   "metadata": {},
   "outputs": [],
   "source": [
    "# apply the function\n",
    "newdf['y'] = newdf.apply(y_value, axis = 1)"
   ]
  },
  {
   "cell_type": "code",
   "execution_count": 81,
   "id": "14aec921-550c-4312-8555-ed88241d9fb2",
   "metadata": {},
   "outputs": [
    {
     "data": {
      "text/plain": [
       "Index(['age', 'balance', 'day', 'month', 'duration', 'campaign', 'pdays',\n",
       "       'previous', 'y', 'job_admin.', 'job_blue-collar', 'job_entrepreneur',\n",
       "       'job_housemaid', 'job_management', 'job_retired', 'job_self-employed',\n",
       "       'job_services', 'job_student', 'job_technician', 'job_unemployed',\n",
       "       'job_unknown', 'marital_divorced', 'marital_married', 'marital_single',\n",
       "       'education_primary', 'education_secondary', 'education_tertiary',\n",
       "       'education_unknown', 'default_no', 'default_yes', 'housing_no',\n",
       "       'housing_yes', 'loan_no', 'loan_yes', 'contact_cellular',\n",
       "       'contact_telephone', 'contact_unknown', 'poutcome_failure',\n",
       "       'poutcome_other', 'poutcome_success', 'poutcome_unknown'],\n",
       "      dtype='object')"
      ]
     },
     "execution_count": 81,
     "metadata": {},
     "output_type": "execute_result"
    }
   ],
   "source": [
    "# display the updated columns\n",
    "newdf.columns"
   ]
  },
  {
   "cell_type": "code",
   "execution_count": 82,
   "id": "04a3e73e-7ffa-466e-993b-8d85e88adf72",
   "metadata": {},
   "outputs": [
    {
     "data": {
      "text/html": [
       "<div>\n",
       "<style scoped>\n",
       "    .dataframe tbody tr th:only-of-type {\n",
       "        vertical-align: middle;\n",
       "    }\n",
       "\n",
       "    .dataframe tbody tr th {\n",
       "        vertical-align: top;\n",
       "    }\n",
       "\n",
       "    .dataframe thead th {\n",
       "        text-align: right;\n",
       "    }\n",
       "</style>\n",
       "<table border=\"1\" class=\"dataframe\">\n",
       "  <thead>\n",
       "    <tr style=\"text-align: right;\">\n",
       "      <th></th>\n",
       "      <th>age</th>\n",
       "      <th>balance</th>\n",
       "      <th>day</th>\n",
       "      <th>month</th>\n",
       "      <th>duration</th>\n",
       "      <th>campaign</th>\n",
       "      <th>pdays</th>\n",
       "      <th>previous</th>\n",
       "      <th>y</th>\n",
       "      <th>job_admin.</th>\n",
       "      <th>...</th>\n",
       "      <th>housing_yes</th>\n",
       "      <th>loan_no</th>\n",
       "      <th>loan_yes</th>\n",
       "      <th>contact_cellular</th>\n",
       "      <th>contact_telephone</th>\n",
       "      <th>contact_unknown</th>\n",
       "      <th>poutcome_failure</th>\n",
       "      <th>poutcome_other</th>\n",
       "      <th>poutcome_success</th>\n",
       "      <th>poutcome_unknown</th>\n",
       "    </tr>\n",
       "  </thead>\n",
       "  <tbody>\n",
       "    <tr>\n",
       "      <th>count</th>\n",
       "      <td>44599.00000</td>\n",
       "      <td>44599.000000</td>\n",
       "      <td>44599.000000</td>\n",
       "      <td>44599.000000</td>\n",
       "      <td>44599.000000</td>\n",
       "      <td>44599.000000</td>\n",
       "      <td>44599.000000</td>\n",
       "      <td>44599.000000</td>\n",
       "      <td>44599.000000</td>\n",
       "      <td>44599.000000</td>\n",
       "      <td>...</td>\n",
       "      <td>44599.000000</td>\n",
       "      <td>44599.000000</td>\n",
       "      <td>44599.000000</td>\n",
       "      <td>44599.000000</td>\n",
       "      <td>44599.000000</td>\n",
       "      <td>44599.000000</td>\n",
       "      <td>44599.000000</td>\n",
       "      <td>44599.000000</td>\n",
       "      <td>44599.000000</td>\n",
       "      <td>44599.000000</td>\n",
       "    </tr>\n",
       "    <tr>\n",
       "      <th>mean</th>\n",
       "      <td>40.49759</td>\n",
       "      <td>1342.169085</td>\n",
       "      <td>15.814660</td>\n",
       "      <td>5.524541</td>\n",
       "      <td>254.299401</td>\n",
       "      <td>2.772955</td>\n",
       "      <td>40.810870</td>\n",
       "      <td>0.572748</td>\n",
       "      <td>0.112648</td>\n",
       "      <td>0.115787</td>\n",
       "      <td>...</td>\n",
       "      <td>0.562569</td>\n",
       "      <td>0.837866</td>\n",
       "      <td>0.162134</td>\n",
       "      <td>0.649028</td>\n",
       "      <td>0.059553</td>\n",
       "      <td>0.291419</td>\n",
       "      <td>0.107984</td>\n",
       "      <td>0.040404</td>\n",
       "      <td>0.031862</td>\n",
       "      <td>0.819749</td>\n",
       "    </tr>\n",
       "    <tr>\n",
       "      <th>std</th>\n",
       "      <td>9.91864</td>\n",
       "      <td>2981.800493</td>\n",
       "      <td>8.324289</td>\n",
       "      <td>2.993344</td>\n",
       "      <td>242.833805</td>\n",
       "      <td>3.111646</td>\n",
       "      <td>99.898838</td>\n",
       "      <td>2.301249</td>\n",
       "      <td>0.316166</td>\n",
       "      <td>0.319973</td>\n",
       "      <td>...</td>\n",
       "      <td>0.496075</td>\n",
       "      <td>0.368578</td>\n",
       "      <td>0.368578</td>\n",
       "      <td>0.477280</td>\n",
       "      <td>0.236659</td>\n",
       "      <td>0.454421</td>\n",
       "      <td>0.310364</td>\n",
       "      <td>0.196908</td>\n",
       "      <td>0.175634</td>\n",
       "      <td>0.384400</td>\n",
       "    </tr>\n",
       "    <tr>\n",
       "      <th>min</th>\n",
       "      <td>18.00000</td>\n",
       "      <td>-8019.000000</td>\n",
       "      <td>1.000000</td>\n",
       "      <td>0.000000</td>\n",
       "      <td>0.000000</td>\n",
       "      <td>1.000000</td>\n",
       "      <td>0.000000</td>\n",
       "      <td>0.000000</td>\n",
       "      <td>0.000000</td>\n",
       "      <td>0.000000</td>\n",
       "      <td>...</td>\n",
       "      <td>0.000000</td>\n",
       "      <td>0.000000</td>\n",
       "      <td>0.000000</td>\n",
       "      <td>0.000000</td>\n",
       "      <td>0.000000</td>\n",
       "      <td>0.000000</td>\n",
       "      <td>0.000000</td>\n",
       "      <td>0.000000</td>\n",
       "      <td>0.000000</td>\n",
       "      <td>0.000000</td>\n",
       "    </tr>\n",
       "    <tr>\n",
       "      <th>25%</th>\n",
       "      <td>33.00000</td>\n",
       "      <td>70.000000</td>\n",
       "      <td>8.000000</td>\n",
       "      <td>3.000000</td>\n",
       "      <td>102.000000</td>\n",
       "      <td>1.000000</td>\n",
       "      <td>0.000000</td>\n",
       "      <td>0.000000</td>\n",
       "      <td>0.000000</td>\n",
       "      <td>0.000000</td>\n",
       "      <td>...</td>\n",
       "      <td>0.000000</td>\n",
       "      <td>1.000000</td>\n",
       "      <td>0.000000</td>\n",
       "      <td>0.000000</td>\n",
       "      <td>0.000000</td>\n",
       "      <td>0.000000</td>\n",
       "      <td>0.000000</td>\n",
       "      <td>0.000000</td>\n",
       "      <td>0.000000</td>\n",
       "      <td>1.000000</td>\n",
       "    </tr>\n",
       "    <tr>\n",
       "      <th>50%</th>\n",
       "      <td>39.00000</td>\n",
       "      <td>441.000000</td>\n",
       "      <td>16.000000</td>\n",
       "      <td>6.000000</td>\n",
       "      <td>179.000000</td>\n",
       "      <td>2.000000</td>\n",
       "      <td>0.000000</td>\n",
       "      <td>0.000000</td>\n",
       "      <td>0.000000</td>\n",
       "      <td>0.000000</td>\n",
       "      <td>...</td>\n",
       "      <td>1.000000</td>\n",
       "      <td>1.000000</td>\n",
       "      <td>0.000000</td>\n",
       "      <td>1.000000</td>\n",
       "      <td>0.000000</td>\n",
       "      <td>0.000000</td>\n",
       "      <td>0.000000</td>\n",
       "      <td>0.000000</td>\n",
       "      <td>0.000000</td>\n",
       "      <td>1.000000</td>\n",
       "    </tr>\n",
       "    <tr>\n",
       "      <th>75%</th>\n",
       "      <td>48.00000</td>\n",
       "      <td>1404.500000</td>\n",
       "      <td>21.000000</td>\n",
       "      <td>8.000000</td>\n",
       "      <td>317.000000</td>\n",
       "      <td>3.000000</td>\n",
       "      <td>0.000000</td>\n",
       "      <td>0.000000</td>\n",
       "      <td>0.000000</td>\n",
       "      <td>0.000000</td>\n",
       "      <td>...</td>\n",
       "      <td>1.000000</td>\n",
       "      <td>1.000000</td>\n",
       "      <td>0.000000</td>\n",
       "      <td>1.000000</td>\n",
       "      <td>0.000000</td>\n",
       "      <td>1.000000</td>\n",
       "      <td>0.000000</td>\n",
       "      <td>0.000000</td>\n",
       "      <td>0.000000</td>\n",
       "      <td>1.000000</td>\n",
       "    </tr>\n",
       "    <tr>\n",
       "      <th>max</th>\n",
       "      <td>69.00000</td>\n",
       "      <td>102127.000000</td>\n",
       "      <td>31.000000</td>\n",
       "      <td>11.000000</td>\n",
       "      <td>1994.000000</td>\n",
       "      <td>63.000000</td>\n",
       "      <td>871.000000</td>\n",
       "      <td>275.000000</td>\n",
       "      <td>1.000000</td>\n",
       "      <td>1.000000</td>\n",
       "      <td>...</td>\n",
       "      <td>1.000000</td>\n",
       "      <td>1.000000</td>\n",
       "      <td>1.000000</td>\n",
       "      <td>1.000000</td>\n",
       "      <td>1.000000</td>\n",
       "      <td>1.000000</td>\n",
       "      <td>1.000000</td>\n",
       "      <td>1.000000</td>\n",
       "      <td>1.000000</td>\n",
       "      <td>1.000000</td>\n",
       "    </tr>\n",
       "  </tbody>\n",
       "</table>\n",
       "<p>8 rows × 41 columns</p>\n",
       "</div>"
      ],
      "text/plain": [
       "               age        balance           day         month      duration  \\\n",
       "count  44599.00000   44599.000000  44599.000000  44599.000000  44599.000000   \n",
       "mean      40.49759    1342.169085     15.814660      5.524541    254.299401   \n",
       "std        9.91864    2981.800493      8.324289      2.993344    242.833805   \n",
       "min       18.00000   -8019.000000      1.000000      0.000000      0.000000   \n",
       "25%       33.00000      70.000000      8.000000      3.000000    102.000000   \n",
       "50%       39.00000     441.000000     16.000000      6.000000    179.000000   \n",
       "75%       48.00000    1404.500000     21.000000      8.000000    317.000000   \n",
       "max       69.00000  102127.000000     31.000000     11.000000   1994.000000   \n",
       "\n",
       "           campaign         pdays      previous             y    job_admin.  \\\n",
       "count  44599.000000  44599.000000  44599.000000  44599.000000  44599.000000   \n",
       "mean       2.772955     40.810870      0.572748      0.112648      0.115787   \n",
       "std        3.111646     99.898838      2.301249      0.316166      0.319973   \n",
       "min        1.000000      0.000000      0.000000      0.000000      0.000000   \n",
       "25%        1.000000      0.000000      0.000000      0.000000      0.000000   \n",
       "50%        2.000000      0.000000      0.000000      0.000000      0.000000   \n",
       "75%        3.000000      0.000000      0.000000      0.000000      0.000000   \n",
       "max       63.000000    871.000000    275.000000      1.000000      1.000000   \n",
       "\n",
       "       ...   housing_yes       loan_no      loan_yes  contact_cellular  \\\n",
       "count  ...  44599.000000  44599.000000  44599.000000      44599.000000   \n",
       "mean   ...      0.562569      0.837866      0.162134          0.649028   \n",
       "std    ...      0.496075      0.368578      0.368578          0.477280   \n",
       "min    ...      0.000000      0.000000      0.000000          0.000000   \n",
       "25%    ...      0.000000      1.000000      0.000000          0.000000   \n",
       "50%    ...      1.000000      1.000000      0.000000          1.000000   \n",
       "75%    ...      1.000000      1.000000      0.000000          1.000000   \n",
       "max    ...      1.000000      1.000000      1.000000          1.000000   \n",
       "\n",
       "       contact_telephone  contact_unknown  poutcome_failure  poutcome_other  \\\n",
       "count       44599.000000     44599.000000      44599.000000    44599.000000   \n",
       "mean            0.059553         0.291419          0.107984        0.040404   \n",
       "std             0.236659         0.454421          0.310364        0.196908   \n",
       "min             0.000000         0.000000          0.000000        0.000000   \n",
       "25%             0.000000         0.000000          0.000000        0.000000   \n",
       "50%             0.000000         0.000000          0.000000        0.000000   \n",
       "75%             0.000000         1.000000          0.000000        0.000000   \n",
       "max             1.000000         1.000000          1.000000        1.000000   \n",
       "\n",
       "       poutcome_success  poutcome_unknown  \n",
       "count      44599.000000      44599.000000  \n",
       "mean           0.031862          0.819749  \n",
       "std            0.175634          0.384400  \n",
       "min            0.000000          0.000000  \n",
       "25%            0.000000          1.000000  \n",
       "50%            0.000000          1.000000  \n",
       "75%            0.000000          1.000000  \n",
       "max            1.000000          1.000000  \n",
       "\n",
       "[8 rows x 41 columns]"
      ]
     },
     "execution_count": 82,
     "metadata": {},
     "output_type": "execute_result"
    }
   ],
   "source": [
    "# display a statistical summary of the data\n",
    "newdf.describe()"
   ]
  },
  {
   "cell_type": "code",
   "execution_count": 83,
   "id": "a3c66784-b86b-495f-9935-a68d2bd00fda",
   "metadata": {},
   "outputs": [
    {
     "data": {
      "image/png": "[encoded data removed]",
      "text/plain": [
       "<Figure size 800x550 with 2 Axes>"
      ]
     },
     "metadata": {},
     "output_type": "display_data"
    }
   ],
   "source": [
    "# plot a correlation diagram\n",
    "sns.heatmap(newdf.corr())\n",
    "plt.show()"
   ]
  },
  {
   "cell_type": "markdown",
   "id": "5d18ef92-6cda-4e98-9bbf-9731b258565b",
   "metadata": {},
   "source": [
    "### Feature Importance"
   ]
  },
  {
   "cell_type": "code",
   "execution_count": 84,
   "id": "52063f62-02d8-483e-bea2-c75709a32fea",
   "metadata": {},
   "outputs": [],
   "source": [
    "# Create features and target\n",
    "X = newdf.drop(['y'], axis = 1)\n",
    "y = newdf['y']"
   ]
  },
  {
   "cell_type": "code",
   "execution_count": 85,
   "id": "4c341a6b-541f-4742-870a-67d3d16ce362",
   "metadata": {},
   "outputs": [],
   "source": [
    "# import train_test_split to split the dataset\n",
    "from sklearn.model_selection import train_test_split\n",
    "X_train, X_test, y_train, y_test = train_test_split(X, y, test_size = 0.2, random_state = 42)"
   ]
  },
  {
   "cell_type": "code",
   "execution_count": 86,
   "id": "6bdf7877-b465-4f95-8e6f-2af8546eaa0c",
   "metadata": {},
   "outputs": [],
   "source": [
    "# import randomforest classifier to perform feature selection\n",
    "from sklearn.feature_selection import RFE\n",
    "from sklearn.ensemble import RandomForestClassifier\n",
    "# Create the RFE object and rank each pixel\n",
    "clf_rf = RandomForestClassifier()      \n",
    "rfe = RFE(estimator = clf_rf, n_features_to_select = 10, step = 1)\n",
    "rfe = rfe.fit(X_train, y_train)"
   ]
  },
  {
   "cell_type": "code",
   "execution_count": 87,
   "id": "43e2fd04-4c82-4a84-a3eb-a4f7bf28dc17",
   "metadata": {},
   "outputs": [
    {
     "name": "stdout",
     "output_type": "stream",
     "text": [
      "Chosen best feature by rfe: Index(['age', 'balance', 'day', 'month', 'duration', 'campaign', 'pdays',\n",
      "       'previous', 'housing_yes', 'poutcome_success'],\n",
      "      dtype='object')\n"
     ]
    }
   ],
   "source": [
    "# display the top 10 most relevant features\n",
    "print('Chosen best feature by rfe:', X_train.columns[rfe.support_])"
   ]
  },
  {
   "cell_type": "markdown",
   "id": "d237f362-df86-42d6-bb5a-65aa3f98ff3d",
   "metadata": {},
   "source": [
    "### Algorithm Training and Experimentation"
   ]
  },
  {
   "cell_type": "code",
   "execution_count": 88,
   "id": "595fc35e-b757-4a14-81cc-038b08a3f93a",
   "metadata": {},
   "outputs": [],
   "source": [
    "# import libraries\n",
    "from sklearn.preprocessing import StandardScaler\n",
    "from sklearn.pipeline import Pipeline\n",
    "from sklearn.linear_model import LogisticRegression\n",
    "from sklearn.metrics import classification_report\n",
    "from sklearn.metrics import confusion_matrix\n",
    "from sklearn.metrics import f1_score\n",
    "from sklearn.metrics import roc_curve"
   ]
  },
  {
   "cell_type": "code",
   "execution_count": 89,
   "id": "803be4a2-066d-4434-9eff-bdfc8e390ea3",
   "metadata": {},
   "outputs": [],
   "source": [
    "# split the dataset 70 by 30\n",
    "X_train, X_test, y_train, y_test = train_test_split(X, y, test_size = 0.3, random_state = 42)"
   ]
  },
  {
   "cell_type": "code",
   "execution_count": 90,
   "id": "9d5ff319-f158-4fe6-8efd-e466457482a8",
   "metadata": {},
   "outputs": [
    {
     "data": {
      "text/plain": [
       "0    27719\n",
       "1     3500\n",
       "Name: y, dtype: int64"
      ]
     },
     "execution_count": 90,
     "metadata": {},
     "output_type": "execute_result"
    }
   ],
   "source": [
    "# check the distribution of our target value\n",
    "y_train.value_counts()"
   ]
  },
  {
   "cell_type": "code",
   "execution_count": 91,
   "id": "083429c3-e984-4cbb-b425-4b515f7f35bb",
   "metadata": {},
   "outputs": [],
   "source": [
    "# Setup the pipeline steps: steps\n",
    "steps = [('scaler', StandardScaler()), ('lr', LogisticRegression())] # ('scaler', StandardScaler()),\n",
    "# Create the pipeline: pipeline\n",
    "pipeline_lr = Pipeline(steps)\n",
    "# Fit the pipeline to the train set\n",
    "pipeline_lr.fit(X_train, y_train)\n",
    "# Predict the labels of the test set\n",
    "y_pred_lr = pipeline_lr.predict(X_test)"
   ]
  },
  {
   "cell_type": "code",
   "execution_count": 92,
   "id": "0c67ce31-10d4-4307-8a5c-1166ca53bd00",
   "metadata": {},
   "outputs": [
    {
     "name": "stdout",
     "output_type": "stream",
     "text": [
      "{'memory': None, 'steps': [('scaler', StandardScaler()), ('lr', LogisticRegression())], 'verbose': False, 'scaler': StandardScaler(), 'lr': LogisticRegression(), 'scaler__copy': True, 'scaler__with_mean': True, 'scaler__with_std': True, 'lr__C': 1.0, 'lr__class_weight': None, 'lr__dual': False, 'lr__fit_intercept': True, 'lr__intercept_scaling': 1, 'lr__l1_ratio': None, 'lr__max_iter': 100, 'lr__multi_class': 'auto', 'lr__n_jobs': None, 'lr__penalty': 'l2', 'lr__random_state': None, 'lr__solver': 'lbfgs', 'lr__tol': 0.0001, 'lr__verbose': 0, 'lr__warm_start': False}\n"
     ]
    }
   ],
   "source": [
    "# Print the parameters of the model\n",
    "print(pipeline_lr.get_params())"
   ]
  },
  {
   "cell_type": "code",
   "execution_count": 93,
   "id": "593d0fbe-2126-4684-8cea-aa37274a8317",
   "metadata": {},
   "outputs": [
    {
     "name": "stdout",
     "output_type": "stream",
     "text": [
      "              precision    recall  f1-score   support\n",
      "\n",
      "           0       0.92      0.98      0.95     11856\n",
      "           1       0.64      0.31      0.42      1524\n",
      "\n",
      "    accuracy                           0.90     13380\n",
      "   macro avg       0.78      0.65      0.68     13380\n",
      "weighted avg       0.89      0.90      0.89     13380\n",
      "\n"
     ]
    }
   ],
   "source": [
    "# Compute metrics\n",
    "print(classification_report(y_test, y_pred_lr))"
   ]
  },
  {
   "cell_type": "code",
   "execution_count": 94,
   "id": "90c5dfc0-e5d1-4bac-bf41-dd7357cf46f2",
   "metadata": {},
   "outputs": [
    {
     "data": {
      "image/png": "[encoded data removed]",
      "text/plain": [
       "<Figure size 800x550 with 2 Axes>"
      ]
     },
     "metadata": {},
     "output_type": "display_data"
    }
   ],
   "source": [
    "# plot the confusion matrix\n",
    "cm = confusion_matrix(y_test, y_pred_lr)\n",
    "sns.heatmap(cm, annot = True, fmt = \"d\")\n",
    "plt.title('Confusion matrix for logistic regression')\n",
    "plt.show()"
   ]
  },
  {
   "cell_type": "markdown",
   "id": "6af45aba-54d9-459e-8564-865598083860",
   "metadata": {},
   "source": [
    "### Excercises"
   ]
  },
  {
   "cell_type": "code",
   "execution_count": null,
   "id": "b6817a23-840d-499d-ad93-bed658756feb",
   "metadata": {},
   "outputs": [],
   "source": [
    "# Excercise 1: train the random forest classifer. DO NOT FORGET TO IMPORT RANDOM FOREST CLASSIFIER\n",
    "\n",
    "# Setup the pipeline steps: steps\n",
    "steps = [('scaler', StandardScaler()), ('rfr', RandomForestClassifier())] #\n",
    "# Create the pipeline: pipeline\n",
    "pipeline_rfr = Pipeline(steps)\n",
    "# Fit the pipeline to the train set\n",
    "pipeline_rfr.fit(X_train, \"???\")\n",
    "# Predict the labels of the test set\n",
    "y_pred_rfr = pipeline_rfr.predict(\"???\")"
   ]
  },
  {
   "cell_type": "code",
   "execution_count": null,
   "id": "e24431ec-6d39-4599-ab19-e44c1fde2c27",
   "metadata": {},
   "outputs": [],
   "source": [
    "# Excercise 2: diplay the classification report\n",
    "\n",
    "# Compute metrics\n",
    "print(classification_report(\"???\", y_pred_rfr))"
   ]
  },
  {
   "cell_type": "code",
   "execution_count": null,
   "id": "b9333ceb-506f-43ea-a4b3-2ea5e72416ae",
   "metadata": {},
   "outputs": [],
   "source": [
    "# Excercise 3: plot the confusion matrix\n",
    "\n",
    "cm = confusion_matrix(\"???\", \"???\")\n",
    "sns.heatmap(cm, annot = \"???\", fmt = \"d\")\n",
    "plt.title('Confusion matrix for random forest classifier')"
   ]
  },
  {
   "cell_type": "markdown",
   "id": "ba1c77e5-c819-427d-bb54-24abe05960dd",
   "metadata": {},
   "source": [
    "### Tracking Experiment with Neptune"
   ]
  },
  {
   "cell_type": "code",
   "execution_count": 95,
   "id": "9eac4fc2-0019-459c-9f22-587f8a5fa2d2",
   "metadata": {},
   "outputs": [],
   "source": [
    "# import libraries\n",
    "import neptune.new as neptune\n",
    "from sklearn.pipeline import Pipeline\n",
    "from sklearn.preprocessing import StandardScaler\n",
    "from sklearn.linear_model import LogisticRegression\n",
    "from sklearn.model_selection import train_test_split\n",
    "import neptune.new.integrations.sklearn as npt_utils\n",
    "\n",
    "# Setup the pipeline steps: steps\n",
    "steps = [('scaler', StandardScaler()), ('lr', LogisticRegression())] #\n",
    "# Create the pipeline: pipeline\n",
    "pipeline_lr = Pipeline(steps)"
   ]
  },
  {
   "cell_type": "code",
   "execution_count": 96,
   "id": "7e4037af-34bf-4a34-873e-a32f76a349bf",
   "metadata": {},
   "outputs": [
    {
     "name": "stdout",
     "output_type": "stream",
     "text": [
      "https://app.neptune.ai/josephitopa/eaglesense/e/EAG-1\n",
      "Remember to stop your run once you’ve finished logging your metadata (https://docs.neptune.ai/api-reference/run#stop). It will be stopped automatically only when the notebook kernel/interactive console is terminated.\n"
     ]
    }
   ],
   "source": [
    "# input neptune credentials\n",
    "\n",
    "run = neptune.init(\n",
    "    project = \"josephitopa/eaglesense\",\n",
    "    api_token = \"eyJhcGlfYWRkcmVzcyI6Imh0dHBzOi8vYXBwLm5lcHR1bmUuYWkiLCJhcGlfdXJsIjoiaHR0cHM6Ly9hcHAubmVwdHVuZS5haSIsImFwaV9rZXkiOiI5MWRlYWM1MS01NDFlLTRlMTYtOTdlYi1iMjQ1ODQ1ZDZjYzgifQ==\")  # your credentials"
   ]
  },
  {
   "cell_type": "code",
   "execution_count": 97,
   "id": "18186b20-2995-495b-9476-68020518c061",
   "metadata": {},
   "outputs": [],
   "source": [
    "# split dataset, 70 by 30\n",
    "X_train, X_test, y_train, y_test = train_test_split(X, y, test_size = 0.3, random_state = 42)\n",
    "\n",
    "# save dataset to a local folder named cleaned\n",
    "X_train.to_csv(\"~/Documents/Projects/Eagle_sense_Q1_Cohort/dataset/cleaned/X_train.csv\")\n",
    "y_train.to_csv(\"~/Documents/Projects/Eagle_sense_Q1_Cohort/dataset/cleaned/y_train.csv\")\n",
    "X_test.to_csv(\"~/Documents/Projects/Eagle_sense_Q1_Cohort/dataset/cleaned/X_test.csv\")\n",
    "y_test.to_csv(\"~/Documents/Projects/Eagle_sense_Q1_Cohort/dataset/cleaned/y_test.csv\")\n",
    "\n",
    "# Move the all the content of the clean folder to neptune\n",
    "run[\"clean_dataset\"].track_files(\"~/Documents/Projects/Eagle_sense_Q1_Cohort/dataset/cleaned/\")"
   ]
  },
  {
   "cell_type": "code",
   "execution_count": 98,
   "id": "0fbd492c-37a9-421d-933e-9a45d3192a90",
   "metadata": {},
   "outputs": [],
   "source": [
    "# train algorithm with training data and log experiment on neptune\n",
    "pipeline_lr.fit(X_train, y_train)\n",
    "run[\"classifier\"] = npt_utils.create_classifier_summary(pipeline_lr, X_train, X_test, y_train, y_test)"
   ]
  },
  {
   "cell_type": "code",
   "execution_count": 99,
   "id": "6ec5752a-7c28-4bcd-96f5-a11fabe9d376",
   "metadata": {},
   "outputs": [
    {
     "name": "stdout",
     "output_type": "stream",
     "text": [
      "Shutting down background jobs, please wait a moment...\n",
      "Done!\n"
     ]
    },
    {
     "name": "stderr",
     "output_type": "stream",
     "text": [
      "Waiting for the remaining 1 operations to synchronize with Neptune. Do not kill this process.\n"
     ]
    },
    {
     "name": "stdout",
     "output_type": "stream",
     "text": [
      "All 1 operations synced, thanks for waiting!\n"
     ]
    }
   ],
   "source": [
    "# stop the experiment\n",
    "run.stop()"
   ]
  },
  {
   "cell_type": "markdown",
   "id": "c00dd617-4db0-4b7e-b5da-77848bfb5f0c",
   "metadata": {},
   "source": [
    "### Excercises"
   ]
  },
  {
   "cell_type": "code",
   "execution_count": null,
   "id": "5eabaf46-d243-443d-b591-9e1911b3e40d",
   "metadata": {},
   "outputs": [],
   "source": [
    "# EXCERCISE 4: import library and parse it in the piipeline \n",
    "import neptune.new as neptune\n",
    "from sklearn.pipeline import Pipeline\n",
    "from sklearn.preprocessing import StandardScaler\n",
    "# ??? import random forest classifier\n",
    "from sklearn.model_selection import train_test_split\n",
    "import neptune.new.integrations.sklearn as npt_utils\n",
    "\n",
    "# Setup the pipeline steps: steps\n",
    "steps = [('scaler', StandardScaler()), ('rfr', \"???\")] #\n",
    "# Create the pipeline: pipeline\n",
    "pipeline_rfr = Pipeline(steps)"
   ]
  },
  {
   "cell_type": "code",
   "execution_count": null,
   "id": "402d60ea-34b4-4069-a56b-763363fef327",
   "metadata": {},
   "outputs": [],
   "source": [
    "# EXCERCISE 5: Get credential from neptune and enter it here\n",
    "\n",
    "run = neptune.init(\n",
    "    project = \"???\",\n",
    "    api_token = \"???\"  # your credentials\n",
    ")"
   ]
  },
  {
   "cell_type": "code",
   "execution_count": null,
   "id": "d095431e-e992-490d-ae99-856edeef8ff8",
   "metadata": {},
   "outputs": [],
   "source": [
    "# Excercise 6: split the dataset with a different test_size = 0.25\n",
    "X_train, X_test, y_train, y_test = train_test_split(X, y, test_size = \"???\", random_state = 42)\n",
    "\n",
    "# Store the files on neptune\n",
    "\"???\""
   ]
  },
  {
   "cell_type": "code",
   "execution_count": null,
   "id": "def1cf48-b70c-45e8-8c08-df8103bc37ea",
   "metadata": {},
   "outputs": [],
   "source": [
    "# EXCERCISE 7: Use the classifier pipeline you create above\n",
    "\"???\".fit(X_train, y_train)\n",
    "run[\"classifier\"] = npt_utils.create_classifier_summary(\"???\", X_train, X_test, y_train, y_test)"
   ]
  },
  {
   "cell_type": "code",
   "execution_count": null,
   "id": "cac97b0d-5c3a-416a-9476-11b4071e9c42",
   "metadata": {},
   "outputs": [],
   "source": [
    "# stop the experiment\n",
    "run.stop()"
   ]
  },
  {
   "cell_type": "code",
   "execution_count": null,
   "id": "262f9b22-4d98-44f8-8557-14ec0222d898",
   "metadata": {},
   "outputs": [],
   "source": []
  }
 ],
 "metadata": {
  "kernelspec": {
   "display_name": "Python 3",
   "language": "python",
   "name": "python3"
  },
  "language_info": {
   "codemirror_mode": {
    "name": "ipython",
    "version": 3
   },
   "file_extension": ".py",
   "mimetype": "text/x-python",
   "name": "python",
   "nbconvert_exporter": "python",
   "pygments_lexer": "ipython3",
   "version": "3.8.11"
  }
 },
 "nbformat": 4,
 "nbformat_minor": 5
}
